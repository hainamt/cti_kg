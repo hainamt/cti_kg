{
 "cells": [
  {
   "cell_type": "markdown",
   "metadata": {},
   "source": [
    "- analyses: (secTeam) -> (SamFile)\n",
    "- associatedWith: (HackOrg) -> (HackOrg)\n",
    "- discovers: (SecTeam) -> (HackOrg)\n",
    "- discoveredBy: (HackOrg) -> (SecTeam)\n",
    "- hasAttackTime: (HackOrg | OffAct | Way)-> (Time)\n",
    "- hasCharacteristics: (HackOrg | OffAct | Exp | Way | Tool | SamFile) -> (Features)\n",
    "- locatedAt:  (Org) -> (Area)\n",
    "- monitors:  (SecTeam) -> (Org | Area | Tool|Exp)\n",
    "- monitoredBy:  (Org | Area | Tool | Exp) -> (SecTeam)\n",
    "- motivates: (Purp) -> (HackOrg | OffAct | Exp | Way)\n",
    "- motivatedBy: (HackOrg | OffAct | Exp|Way) -> Range:Purp\n",
    "- uses: (HackOrg | OffAct | Exp | Way | Tool | SamFile)-> (Tool|OffAct|Exp|SamFile|Way)\n",
    "- usedBy: (Feaures | OffAct | Exp | Way | Tool | SamFile) -> HackOrg|OffAct|Exp|Way|Tool|SamFile\n",
    "- targets: (HackOrg | OffAct | Exp | Way | Tool | SamFile) -> (Area | Org | SecTeam)\n",
    "- targetedBy: (Area | Org | SecTeam) -> (HackOrg | OffAct | Exp | Way | Tool | SamFile)"
   ]
  },
  {
   "metadata": {},
   "cell_type": "code",
   "outputs": [],
   "execution_count": null,
   "source": [
    "relations = [\n",
    "    (\"analyses\", [\"SecTeam\"], [\"SamFile\"]),\n",
    "    (\"associatedWith\", [\"HackOrg\"], [\"HackOrg\"]),\n",
    "    (\"discovers\", [\"SecTeam\"], [\"HackOrg\"]),\n",
    "    (\"discoveredBy\", [\"HackOrg\"], [\"SecTeam\"]),\n",
    "    (\"hasAttackTime\", [\"HackOrg\", \"OffAct\", \"Way\"], \"Time\"),\n",
    "    (\"hasCharacteristics\", [\"HackOrg\", \"OffAct\", \"Exp\", \"Way\", \"Tool\", \"SamFile\"], \"Features\"),\n",
    "    (\"locatedAt\", [\"Org\"], [\"Area\"]),\n",
    "    (\"monitors\", [\"SecTeam\"], [\"Org\", \"Area\", \"Tool\", \"Exp\"]),\n",
    "    (\"monitoredBy\", [\"Org\", \"Area\", \"Tool\", \"Exp\"], \"SecTeam\"),\n",
    "    (\"motivates\", [\"Purp\"], [\"HackOrg\", \"OffAct\", \"Exp\", \"Way\"]),\n",
    "    (\"motivatedBy\", [\"HackOrg\", \"OffAct\", \"Exp\", \"Way\"], \"Purp\"),\n",
    "    (\"uses\", [\"HackOrg\", \"OffAct\", \"Exp\", \"Way\", \"Tool\", \"SamFile\"], [\"Tool\", \"OffAct\", \"Exp\", \"SamFile\", \"Way\"]),\n",
    "    (\"usedBy\", [\"Feaures\", \"OffAct\", \"Exp\", \"Way\", \"Tool\", \"SamFile\"], [\"HackOrg\", \"OffAct\", \"Exp\", \"Way\", \"Tool\", \"SamFile\"]),\n",
    "    (\"targets\", [\"HackOrg\", \"OffAct\", \"Exp\", \"Way\", \"Tool\", \"SamFile\"], [\"Area\", \"Org\", \"SecTeam\"]),\n",
    "    (\"targetedBy\", [\"Area\", \"Org\", \"SecTeam\"], [\"HackOrg\", \"OffAct\", \"Exp\", \"Way\", \"Tool\", \"SamFile\"])\n",
    "]"
   ]
  },
  {
   "cell_type": "code",
   "execution_count": 5,
   "metadata": {},
   "outputs": [
    {
     "data": {
      "text/plain": [
       "{'attack-pattern': {'targets': ['identity', 'vulnerability'],\n",
       "  'uses': ['malware', 'tool']},\n",
       " 'campaign': {'attributed-to': ['intrusion-set', 'threat-actor'],\n",
       "  'targets': ['identity', 'vulnerability'],\n",
       "  'uses': ['attack-pattern', 'malware', 'tool']},\n",
       " 'course-of-action': {'mitigates': ['attack-pattern',\n",
       "   'malware',\n",
       "   'tool',\n",
       "   'vulnerability']},\n",
       " 'identity': {},\n",
       " 'indicator': {'indicates': ['attack-pattern',\n",
       "   'campaign',\n",
       "   'intrusion-set',\n",
       "   'malware',\n",
       "   'threat-actor',\n",
       "   'tool']},\n",
       " 'intrusion-set': {'attributed-to': ['threat-actor'],\n",
       "  'targets': ['identity', 'vulnerability'],\n",
       "  'uses': ['attack-pattern', 'malware', 'tool']},\n",
       " 'malware': {'targets': ['identity', 'vulnerability'],\n",
       "  'uses': ['tool'],\n",
       "  'variant-of': ['malware']},\n",
       " 'observed-data': {},\n",
       " 'report': {},\n",
       " 'threat-actor': {'attributed-to': ['identity'],\n",
       "  'impersonates': ['identity'],\n",
       "  'targets': ['identity', 'vulnerability'],\n",
       "  'uses': ['attack-pattern', 'malware', 'tool']},\n",
       " 'tool': {'targets': ['identity', 'vulnerability']},\n",
       " 'vulnerability': {}}"
      ]
     },
     "execution_count": 5,
     "metadata": {},
     "output_type": "execute_result"
    }
   ],
   "source": [
    "import networkx as nx\n",
    "import json\n",
    "import matplotlib.pyplot as plt \n",
    "\n",
    "with open(\"/content/drive/MyDrive/Colab Notebooks/CTI-KG/stix2_onthodology.json\", \"r\", encoding='utf-8') as f:\n",
    "    stix2_ont = json.load(f)\n",
    "\n",
    "stix2_ont_g = nx.DiGraph()\n",
    "for source, relations in stix2_ont.items():\n",
    "    for relationship_type, targets in relations.items():\n",
    "        for target in targets:\n",
    "            stix2_ont_g.add_edge(source, target, label=relationship_type)\n",
    "\n",
    "pos = nx.nx_pydot.graphviz_layout(stix2_ont_g)\n",
    "plt.figure(figsize=(10, 7))\n",
    "nx.draw(stix2_ont_g, pos, with_labels=True, node_size=2000,\n",
    "        node_color=\"lightblue\", font_size=10,\n",
    "        font_weight=\"bold\", arrowsize=15)\n",
    "edge_labels = nx.get_edge_attributes(stix2_ont_g, 'label')\n",
    "nx.draw_networkx_edge_labels(stix2_ont_g, pos, edge_labels=edge_labels, font_color=\"red\", font_size=8)\n",
    "plt.title(\"Knowledge Graph from Domain Ontology\", fontsize=14)\n",
    "plt.show()"
   ]
  },
  {
   "cell_type": "code",
   "metadata": {
    "ExecuteTime": {
     "end_time": "2025-02-17T17:30:22.998457Z",
     "start_time": "2025-02-17T17:30:00.165055Z"
    }
   },
   "source": [
    "import polars as pl\n",
    "import string\n",
    "import nltk\n",
    "from itertools import groupby\n",
    "from nltk.corpus import stopwords\n",
    "\n",
    "nltk.download('stopwords')\n",
    "stop_words_en = set(stopwords.words('english'))"
   ],
   "outputs": [
    {
     "name": "stderr",
     "output_type": "stream",
     "text": [
      "[nltk_data] Downloading package stopwords to\n",
      "[nltk_data]     /Users/nahtra/nltk_data...\n",
      "[nltk_data]   Unzipping corpora/stopwords.zip.\n"
     ]
    }
   ],
   "execution_count": 1
  },
  {
   "cell_type": "code",
   "metadata": {
    "ExecuteTime": {
     "end_time": "2025-02-17T17:30:31.731940Z",
     "start_time": "2025-02-17T17:30:31.726649Z"
    }
   },
   "source": [
    "other_punc = {\"''\"}\n",
    "punc_list = set(string.punctuation).union(other_punc)\n",
    "\n",
    "def read_dataset_sentence(file_path, len_threshold=5):\n",
    "  with open(file_path, \"r\", encoding=\"utf-8\") as f:\n",
    "      sentences = [list(group) for is_empty, group\n",
    "                    in groupby((line.strip() for line in f), bool) if is_empty]\n",
    "  return [sentence for sentence in sentences if len(sentence) >= len_threshold]\n",
    "\n",
    "\n",
    "def split_tokens_and_labels(data, delimiter=\" \"):\n",
    "  tokens, labels = zip(*(item for pair in data\n",
    "                          if (item := pair.split(delimiter))\n",
    "                          if (token := item[0].lower())\n",
    "                         and all([len(item)==2,\n",
    "                                 token not in punc_list,\n",
    "                                #  token not in stop_words_en\n",
    "                                 ])))\n",
    "  return [list(map(lambda x: x.lower(), tokens)), list(labels)]\n",
    "\n",
    "\n",
    "def to_df(sentences, delimiter=\" \"):\n",
    "  token_label = []\n",
    "  for idx, sentence in enumerate(sentences):\n",
    "    try:\n",
    "      token_label.append(split_tokens_and_labels(sentence, delimiter))\n",
    "    except Exception as ex:\n",
    "      print(f\"At index: {idx}, exception: {ex}\")\n",
    "      raise Exception(\"Error in sentence: \", sentence)\n",
    "  df = pl.DataFrame(token_label, schema=[\"tokens\", \"labels\"], orient=\"row\")\n",
    "  df = df.with_columns(pl.col(\"tokens\").list.join(\" \").alias(\"content\"))\n",
    "  mismatch_count = df.filter(pl.col(\"tokens\").list.len() != pl.col(\"labels\").list.len()).shape[0]\n",
    "  assert mismatch_count == 0, \"Mismatched tokens and labels\"\n",
    "  return df\n",
    "\n",
    "def get_unique_label(df, label_column=\"labels\"):\n",
    "  unique_labels = df.select(pl.col(label_column).list.explode().unique())\n",
    "  unique_labels_list = unique_labels[label_column].to_list()\n",
    "  return unique_labels_list"
   ],
   "outputs": [],
   "execution_count": 2
  },
  {
   "cell_type": "code",
   "metadata": {
    "ExecuteTime": {
     "end_time": "2025-02-17T18:56:19.140781Z",
     "start_time": "2025-02-17T18:56:18.915561Z"
    }
   },
   "source": [
    "dnrti_senteces = read_dataset_sentence(\"datasets/dataset-TiKG/DNRTI.txt\")\n",
    "dnrti_df = to_df(dnrti_senteces, delimiter=\" \")\n",
    "print(get_unique_label(dnrti_df))\n",
    "print(dnrti_df)"
   ],
   "outputs": [
    {
     "name": "stdout",
     "output_type": "stream",
     "text": [
      "['I-Purp', 'B-Purp', 'B-Exp', 'I-Org', 'O', 'B-Way', 'I-SecTeam', 'B-SamFile', 'I-OffAct', 'B-Time', 'B-Org', 'I-Features', 'I-HackOrg', 'I-Time', 'B-Tool', 'B-Features', 'B-SecTeam', 'I-SamFile', 'I-Tool', 'I-Area', 'I-Exp', 'I-Way', 'B-HackOrg', 'B-Area', 'B-OffAct']\n",
      "shape: (6_576, 3)\n",
      "┌────────────────────────────────┬────────────────────────────────┬────────────────────────────────┐\n",
      "│ tokens                         ┆ labels                         ┆ content                        │\n",
      "│ ---                            ┆ ---                            ┆ ---                            │\n",
      "│ list[str]                      ┆ list[str]                      ┆ str                            │\n",
      "╞════════════════════════════════╪════════════════════════════════╪════════════════════════════════╡\n",
      "│ [\"the\", \"admin@338\", …         ┆ [\"O\", \"B-HackOrg\", … \"I-Tool\"] ┆ the admin@338 has largely      │\n",
      "│ \"backdo…                       ┆                                ┆ targ…                          │\n",
      "│ [\"the\", \"admin@338\", …         ┆ [\"O\", \"B-HackOrg\", … \"B-Area\"] ┆ the admin@338 started          │\n",
      "│ \"china\"…                       ┆                                ┆ targetin…                      │\n",
      "│ [\"multiple\", \"china-based\", …  ┆ [\"O\", \"B-Area\", … \"O\"]         ┆ multiple china-based cyber     │\n",
      "│ …                              ┆                                ┆ thr…                           │\n",
      "│ [\"the\", \"admin@338\", … \"past\"] ┆ [\"O\", \"B-HackOrg\", … \"O\"]      ┆ the admin@338 has targeted     │\n",
      "│                                ┆                                ┆ int…                           │\n",
      "│ [\"in\", \"august\", …             ┆ [\"O\", \"B-Time\", … \"O\"]         ┆ in august 2015 the admin@338   │\n",
      "│ \"television…                   ┆                                ┆ s…                             │\n",
      "│ …                              ┆ …                              ┆ …                              │\n",
      "│ [\"apt33\", \"often\", … \"module\"] ┆ [\"B-HackOrg\", \"O\", … \"I-Way\"]  ┆ apt33 often conducts           │\n",
      "│                                ┆                                ┆ spear-phi…                     │\n",
      "│ [\"in\", \"a\", … \"industry\"]      ┆ [\"O\", \"O\", … \"I-Org\"]          ┆ in a recent attack apt33 sent  │\n",
      "│                                ┆                                ┆ …                              │\n",
      "│ [\"these\", \"emails\", … \"files\"] ┆ [\"O\", \"B-Way\", … \"O\"]          ┆ these emails included          │\n",
      "│                                ┆                                ┆ recruitm…                      │\n",
      "│ [\"apt34\", \"often\", …           ┆ [\"B-HackOrg\", \"O\", … \"O\"]      ┆ apt34 often uses compromised   │\n",
      "│ \"operatio…                     ┆                                ┆ a…                             │\n",
      "│ [\"apt33\", \"leverages\", …       ┆ [\"B-HackOrg\", \"O\", … \"I-Tool\"] ┆ apt33 leverages a mix of       │\n",
      "│ \"shel…                         ┆                                ┆ publi…                         │\n",
      "└────────────────────────────────┴────────────────────────────────┴────────────────────────────────┘\n"
     ]
    }
   ],
   "execution_count": 7
  },
  {
   "metadata": {
    "ExecuteTime": {
     "end_time": "2025-02-18T18:11:18.143119Z",
     "start_time": "2025-02-18T18:11:18.138752Z"
    }
   },
   "cell_type": "code",
   "source": [
    "tikg_do = {\n",
    "    \"SecTeam\": {\n",
    "        \"Org\": \"monitors\",\n",
    "        \"Area\": \"monitors\"\n",
    "    },\n",
    "    \"HackOrg\": {\n",
    "        \"HackOrg\": \"associatedWith\",\n",
    "        \"SecTeam\": \"targets\",\n",
    "        \"Time\": \"hasAttackTime\",\n",
    "        \"Features\": \"hasCharacteristics\",\n",
    "        \"Tool\": \"uses\",\n",
    "        \"OffAct\": \"uses\",\n",
    "        \"Exp\": \"uses\",\n",
    "        \"SamFile\": \"uses\",\n",
    "        \"Way\": \"uses\",\n",
    "        \"Area\": \"targets\",\n",
    "        \"Org\": \"targets\"\n",
    "    },\n",
    "    \"OffAct\": {\n",
    "        \"Time\": \"hasAttackTime\",\n",
    "        \"Features\": \"hasCharacteristics\",\n",
    "        \"Area\": \"targets\",\n",
    "        \"Org\": \"targets\",\n",
    "        \"SecTeam\": \"targets\"\n",
    "    },\n",
    "    \"Way\": {\n",
    "        \"Time\": \"hasAttackTime\",\n",
    "        \"Features\": \"hasCharacteristics\",\n",
    "        \"Area\": \"targets\",\n",
    "        \"Org\": \"targets\",\n",
    "        \"SecTeam\": \"targets\"\n",
    "    },\n",
    "    \"Exp\": {\n",
    "        \"Features\": \"hasCharacteristics\",\n",
    "        \"SecTeam\": \"targets\",\n",
    "        \"Area\": \"targets\",\n",
    "        \"Org\": \"targets\"\n",
    "    },\n",
    "    \"Tool\": {\n",
    "        \"Features\": \"hasCharacteristics\",\n",
    "        \"SecTeam\": \"targets\",\n",
    "        \"Area\": \"targets\",\n",
    "        \"Org\": \"targets\"\n",
    "    },\n",
    "    \"SamFile\": {\n",
    "        \"Features\": \"hasCharacteristics\",\n",
    "        \"Area\": \"targets\",\n",
    "        \"Org\": \"targets\",\n",
    "        \"SecTeam\": \"targets\"\n",
    "    },\n",
    "    \"Org\": {\n",
    "        \"Area\": \"locatedAt\"\n",
    "    },\n",
    "    \"Purp\": {\n",
    "        \"HackOrg\": \"motivates\",\n",
    "        \"OffAct\": \"motivates\",\n",
    "        \"Exp\": \"motivates\",\n",
    "        \"Way\": \"motivates\"\n",
    "    }\n",
    "}"
   ],
   "outputs": [],
   "execution_count": 47
  },
  {
   "metadata": {
    "ExecuteTime": {
     "end_time": "2025-02-18T18:26:51.491342Z",
     "start_time": "2025-02-18T18:26:51.487146Z"
    }
   },
   "cell_type": "code",
   "source": [
    "def rela_labeling(tokens, ner_labels):\n",
    "    entities = {}\n",
    "    triplets = set()\n",
    "\n",
    "    i = 0\n",
    "    while i < len(tokens):\n",
    "        if ner_labels[i].startswith(\"B\"):\n",
    "            label = ner_labels[i].split(\"-\")[-1]\n",
    "            start = i\n",
    "            i += 1\n",
    "            while i < len(tokens) and ner_labels[i].startswith(\"I\"):\n",
    "                i += 1\n",
    "            entities[start] = (\" \".join(tokens[start:i]), label)\n",
    "        else:\n",
    "            i += 1\n",
    "\n",
    "    for obj_idx, (obj_name, obj_label) in entities.items():\n",
    "        if obj_label in tikg_do:\n",
    "            for subj_idx, (subj_name, subj_label) in entities.items():\n",
    "                if subj_idx != obj_idx and subj_label in tikg_do[obj_label]:\n",
    "                    relation = tikg_do[obj_label][subj_label]\n",
    "                    triplets.add((obj_name, relation, subj_name))\n",
    "\n",
    "    return triplets\n",
    "\n"
   ],
   "outputs": [],
   "execution_count": 55
  },
  {
   "metadata": {
    "ExecuteTime": {
     "end_time": "2025-02-18T18:11:35.641246Z",
     "start_time": "2025-02-18T18:11:35.637421Z"
    }
   },
   "cell_type": "code",
   "outputs": [],
   "execution_count": 49,
   "source": [
    "test_tokens = dnrti_df[\"tokens\"][0].to_list()\n",
    "test_labels = dnrti_df[\"labels\"][0].to_list()\n",
    "test_triplets = rela_labeling(test_tokens, test_labels)\n",
    "print(test_tokens)\n",
    "print(test_labels)\n",
    "print(test_triplets)"
   ]
  },
  {
   "metadata": {
    "ExecuteTime": {
     "end_time": "2025-02-18T18:27:26.135126Z",
     "start_time": "2025-02-18T18:27:26.081387Z"
    }
   },
   "cell_type": "code",
   "source": [
    "result = []\n",
    "for row in dnrti_df.iter_rows(named=True):\n",
    "    tokens = row[\"tokens\"]\n",
    "    labels = row[\"labels\"]\n",
    "    triplets = rela_labeling(tokens, labels)\n",
    "    result.append(triplets)"
   ],
   "outputs": [],
   "execution_count": 56
  },
  {
   "metadata": {
    "ExecuteTime": {
     "end_time": "2025-02-18T19:47:27.954823Z",
     "start_time": "2025-02-18T19:47:27.949668Z"
    }
   },
   "cell_type": "code",
   "source": "3 * len(result[15])",
   "outputs": [
    {
     "data": {
      "text/plain": [
       "90"
      ]
     },
     "execution_count": 59,
     "metadata": {},
     "output_type": "execute_result"
    }
   ],
   "execution_count": 59
  },
  {
   "metadata": {},
   "cell_type": "code",
   "outputs": [],
   "execution_count": null,
   "source": ""
  }
 ],
 "metadata": {
  "kernelspec": {
   "display_name": "env",
   "language": "python",
   "name": "python3"
  },
  "language_info": {
   "codemirror_mode": {
    "name": "ipython",
    "version": 3
   },
   "file_extension": ".py",
   "mimetype": "text/x-python",
   "name": "python",
   "nbconvert_exporter": "python",
   "pygments_lexer": "ipython3",
   "version": "3.12.8"
  }
 },
 "nbformat": 4,
 "nbformat_minor": 2
}
